{
 "cells": [
  {
   "cell_type": "code",
   "execution_count": 1,
   "id": "baf893a4-3af5-4899-b870-9641e230adaa",
   "metadata": {},
   "outputs": [],
   "source": [
    "%matplotlib inline\n",
    "import matplotlib.pyplot as plt\n",
    "\n",
    "import numpy as np\n",
    "import pandas as pd\n",
    "import numba as nb\n",
    "from numbalsoda import lsoda, address_as_void_pointer\n",
    "\n",
    "from src.lr import gernerate_full_lr_with_oxalate\n",
    "from src.loss import cr_log, args_dtype_cr, create_jit_cr\n",
    "from src.chemkinetics import ChemKinetics, find_sparse_model\n",
    "from src.load_data import generate_d\n",
    "from src.tools import get_conservation, generate_chem_formula, chem_equation_with_oxalate\n",
    "from src.report import report"
   ]
  },
  {
   "cell_type": "code",
   "execution_count": 2,
   "id": "427b400e-73a9-49aa-b682-1c8e980c8bd3",
   "metadata": {},
   "outputs": [
    {
     "name": "stdout",
     "output_type": "stream",
     "text": [
      "8\n"
     ]
    }
   ],
   "source": [
    "# set the number of threads to be used by numba\n",
    "#print(nb.config.NUMBA_DEFAULT_NUM_THREADS)\n",
    "nb.config.NUMBA_NUM_THREADS = 8\n",
    "print(nb.config.NUMBA_NUM_THREADS)\n",
    "\n",
    "# create the function (rate equation in this study) to be called by numbalsoda\n",
    "cr_cfunc = create_jit_cr(cr_log, args_dtype_cr)\n",
    "funcptr_cr = cr_cfunc.address"
   ]
  },
  {
   "cell_type": "code",
   "execution_count": 3,
   "id": "3b23705a-8b1e-4da2-af64-89c339816f5a",
   "metadata": {},
   "outputs": [
    {
     "name": "stdout",
     "output_type": "stream",
     "text": [
      "( 1) Mn+7 + Mn+3     -> Mn+6 + Mn+4     k = 0.00\n",
      "( 2) Mn+7 + Mn+2     -> Mn+3 + Mn+6     k = 0.00\n",
      "( 3) Mn+7 + C2O4-2   -> Mn+6 + C2O4-1   k = 0.00\n",
      "( 4) 2 Mn+3          -> Mn+2 + Mn+4     k = 0.00\n",
      "( 5) Mn+3 + C2O4-2   -> Mn+2 + C2O4-1   k = 0.00\n",
      "( 6) Mn+3 + Mn+6     -> Mn+7 + Mn+2     k = 0.00\n",
      "( 7) Mn+3 + C2O4-1   -> C2O4-2 + Mn+4   k = 0.00\n",
      "( 8) Mn+2 + Mn+6     -> 2 Mn+4          k = 0.00\n",
      "( 9) Mn+2 + Mn+4     -> 2 Mn+3          k = 0.00\n",
      "(10) Mn+2 + C2O4-1   -> Mn+3 + C2O4-2   k = 0.00\n",
      "(11) C2O4-2 + Mn+4   -> Mn+3 + C2O4-1   k = 0.00\n",
      "(12) Mn+6 + Mn+4     -> Mn+7 + Mn+3     k = 0.00\n",
      "(13) Mn+6 + C2O4-1   -> Mn+7 + C2O4-2   k = 0.00\n",
      "(14) 2 Mn+4          -> Mn+2 + Mn+6     k = 0.00\n",
      "(15) Mn+7 + C2O4-1   -> 2 CO2 + Mn+6    k = 0.00\n",
      "(16) Mn+3 + C2O4-1   -> Mn+2 + 2 CO2    k = 0.00\n",
      "(17) C2O4-2 + Mn+6   -> 2 CO2 + Mn+4    k = 0.00\n",
      "(18) C2O4-2 + Mn+4   -> Mn+2 + 2 CO2    k = 0.00\n",
      "(19) Mn+4 + C2O4-1   -> Mn+3 + 2 CO2    k = 0.00\n",
      "(20) 2 C2O4-1        -> C2O4-2 + 2 CO2  k = 0.00\n",
      "\n"
     ]
    }
   ],
   "source": [
    "conservation = [[1, 1, 1, 0, 0, 1, 1, 0,], # number of Mn atoms\n",
    "                [0, 0, 0, 2, 1, 0, 0, 2,], # number of C atoms\n",
    "                [7, 3, 2,-2, 0, 6, 4,-1,], # charge state\n",
    "               ] # Mn(7+), Mn(3+), Mn(2+), C2O4(2-), CO2, Mn(6+), Mn(4+), C2O4(-)\n",
    "\n",
    "chemformula = generate_chem_formula(conservation)\n",
    "l,r = gernerate_full_lr_with_oxalate(conservation)\n",
    "print(chem_equation_with_oxalate(l, r, k=None, chemformula=chemformula, conservation=conservation))"
   ]
  },
  {
   "cell_type": "code",
   "execution_count": null,
   "id": "39f6657b-6212-4919-b0b0-7d275ecfb5b2",
   "metadata": {
    "scrolled": true
   },
   "outputs": [],
   "source": [
    "# find full models (lam = 0) and models for any given lam\n",
    "savefolder = \"example/init\"\n",
    "savename = \"0000\"\n",
    "lam = 0.\n",
    "target = 0. \n",
    "# Once the MRSE value decreases to less than the target value, the tentative best result is injected as an external solution to CMA-ES.\n",
    "# This does not work when target value = 0.\n",
    "\n",
    "d, d_test = generate_d()\n",
    "ck = ChemKinetics(funcptr_cr, d, d_test=d_test, l=l, r=r, conservation=conservation, chemformula=chemformula)\n",
    "ck.optimize(lam = lam, target=target)\n",
    "ck.save(savefolder, savename)"
   ]
  },
  {
   "cell_type": "code",
   "execution_count": null,
   "id": "50c95e03",
   "metadata": {},
   "outputs": [],
   "source": [
    "# Output omitted for brevity"
   ]
  },
  {
   "cell_type": "code",
   "execution_count": null,
   "id": "a20dbc88-4396-4b45-a2e7-09bca800eb6d",
   "metadata": {
    "scrolled": true
   },
   "outputs": [],
   "source": [
    "# find simplified models\n",
    "loadpath = \"example/init\"\n",
    "fname = \"0000\"\n",
    "\n",
    "d, d_test = generate_d()\n",
    "init_model = ChemKinetics(funcptr_cr, d, d_test=d_test)\n",
    "init_model.load(loadpath, fname)\n",
    "savepath = \"example/sparse\"\n",
    "find_sparse_model(init_model, savepath)"
   ]
  },
  {
   "cell_type": "code",
   "execution_count": null,
   "id": "86e8fb21",
   "metadata": {},
   "outputs": [],
   "source": [
    "# Output omitted for brevity"
   ]
  },
  {
   "cell_type": "code",
   "execution_count": 6,
   "id": "25d3ed68-8160-4f9f-a916-c1661a0909e9",
   "metadata": {},
   "outputs": [
    {
     "name": "stdout",
     "output_type": "stream",
     "text": [
      "( 1) Mn+7 + Mn+2     -> Mn+3 + Mn+6     k = 48.67\n",
      "( 2) Mn+7 + C2O4-2   -> Mn+6 + C2O4-1   k = 0.03\n",
      "( 3) Mn+3 + C2O4-2   -> Mn+2 + C2O4-1   k = 10.85\n",
      "( 4) Mn+2 + Mn+6     -> 2 Mn+4          k = 9996.27\n",
      "( 5) Mn+2 + Mn+4     -> 2 Mn+3          k = 9999.74\n",
      "( 6) Mn+2 + C2O4-1   -> Mn+3 + C2O4-2   k = 54.30\n",
      "( 7) C2O4-2 + Mn+4   -> Mn+3 + C2O4-1   k = 35.66\n",
      "( 8) Mn+7 + C2O4-1   -> 2 CO2 + Mn+6    k = 1049.52\n",
      "( 9) Mn+3 + C2O4-1   -> Mn+2 + 2 CO2    k = 385.73\n",
      "(10) C2O4-2 + Mn+6   -> 2 CO2 + Mn+4    k = 478.75\n",
      "(11) Mn+4 + C2O4-1   -> Mn+3 + 2 CO2    k = 9731.23\n",
      "\n"
     ]
    }
   ],
   "source": [
    "# load a kinetic model and create a report\n",
    "loadpath = \"example/sparse\"\n",
    "fname = \"0013\"\n",
    "d, d_test = generate_d()\n",
    "ck = ChemKinetics(funcptr_cr, d, d_test=d_test)\n",
    "ck.load(loadpath, fname)\n",
    "print(chem_equation_with_oxalate(ck.l, ck.r, k=ck.k, chemformula=ck.chemformula, conservation=ck.conservation))\n",
    "savename = \"example/report.pdf\"\n",
    "report(loadpath, fname, savename)"
   ]
  }
 ],
 "metadata": {
  "kernelspec": {
   "display_name": "Python 3 (ipykernel)",
   "language": "python",
   "name": "python3"
  },
  "language_info": {
   "codemirror_mode": {
    "name": "ipython",
    "version": 3
   },
   "file_extension": ".py",
   "mimetype": "text/x-python",
   "name": "python",
   "nbconvert_exporter": "python",
   "pygments_lexer": "ipython3",
   "version": "3.11.6"
  }
 },
 "nbformat": 4,
 "nbformat_minor": 5
}
